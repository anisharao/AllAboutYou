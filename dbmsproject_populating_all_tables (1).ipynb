{
 "cells": [
  {
   "cell_type": "code",
   "execution_count": 1,
   "id": "bfafa27a",
   "metadata": {},
   "outputs": [],
   "source": [
    "import pandas as pd\n",
    "import mysql.connector as msql\n",
    "from getpass import getpass\n",
    "from mysql.connector import connect, Error\n",
    "mood = pd.read_csv(\"/Users/nilishamp/Downloads/moods.csv\", index_col=False, delimiter = ',', encoding='windows-1254')"
   ]
  },
  {
   "cell_type": "code",
   "execution_count": 2,
   "id": "198f1fb9",
   "metadata": {},
   "outputs": [],
   "source": [
    "mood_activity = pd.read_csv(\"/Users/nilishamp/Downloads/mood_activity.csv\", index_col=False, delimiter = ',', encoding='windows-1254')"
   ]
  },
  {
   "cell_type": "code",
   "execution_count": 10,
   "id": "4bcf95cc",
   "metadata": {},
   "outputs": [],
   "source": [
    "activities = pd.read_csv(\"/Users/nilishamp/Downloads/activities_u.csv\", index_col=False, delimiter = ',', encoding='windows-1254')"
   ]
  },
  {
   "cell_type": "code",
   "execution_count": 11,
   "id": "dfb1bc36",
   "metadata": {},
   "outputs": [
    {
     "name": "stdout",
     "output_type": "stream",
     "text": [
      "Enter username:root\n",
      "Enter password: ········\n",
      "Record inserted\n",
      "Record inserted\n",
      "Record inserted\n",
      "Record inserted\n",
      "Record inserted\n",
      "Record inserted\n",
      "Record inserted\n",
      "Record inserted\n",
      "Record inserted\n",
      "Record inserted\n",
      "Record inserted\n",
      "Record inserted\n",
      "Record inserted\n",
      "Record inserted\n",
      "Record inserted\n",
      "Record inserted\n",
      "Record inserted\n",
      "Record inserted\n",
      "Record inserted\n",
      "Record inserted\n",
      "Record inserted\n",
      "Record inserted\n"
     ]
    }
   ],
   "source": [
    "try:\n",
    "    with connect(\n",
    "        host=\"localhost\",\n",
    "        user=input(\"Enter username:\"),\n",
    "        password=getpass(\"Enter password: \"),\n",
    "    ) as connection:\n",
    "        conn = msql.connect(host='localhost', user='root', database='All_about_you', #create a new database\n",
    "                            password='sqlisthebes+!')  # give ur username, password\n",
    "        if conn.is_connected():\n",
    "            cursor = conn.cursor()\n",
    "            for i,row in mood.iterrows():\n",
    "                #here %S means string values\n",
    "                sql = \"INSERT INTO moods VALUES (%s,%s)\"\n",
    "                cursor.execute(sql, tuple(row))\n",
    "                print(\"Record inserted\")\n",
    "                # the connection is not auto committed by default, so we must commit to save our changes\n",
    "                conn.commit()\n",
    "except Error as e:\n",
    "            print(\"Error while connecting to MySQL\", e)"
   ]
  },
  {
   "cell_type": "code",
   "execution_count": 12,
   "id": "9f3af080",
   "metadata": {},
   "outputs": [
    {
     "name": "stdout",
     "output_type": "stream",
     "text": [
      "Enter username:root\n",
      "Enter password: ········\n",
      "Record inserted\n",
      "Record inserted\n",
      "Record inserted\n",
      "Record inserted\n",
      "Record inserted\n",
      "Record inserted\n",
      "Record inserted\n",
      "Record inserted\n",
      "Record inserted\n",
      "Record inserted\n",
      "Record inserted\n",
      "Record inserted\n",
      "Record inserted\n",
      "Record inserted\n",
      "Record inserted\n",
      "Record inserted\n"
     ]
    }
   ],
   "source": [
    "try:\n",
    "    with connect(\n",
    "        host=\"localhost\",\n",
    "        user=input(\"Enter username:\"),\n",
    "        password=getpass(\"Enter password: \"),\n",
    "    ) as connection:\n",
    "        conn = msql.connect(host='localhost', user='root', database='All_about_you', #create a new database\n",
    "                            password='sqlisthebes+!')  # give ur username, password\n",
    "        if conn.is_connected():\n",
    "            cursor = conn.cursor()\n",
    "            for i,row in activities.iterrows():\n",
    "                #here %S means string values\n",
    "                sql = \"INSERT INTO activities VALUES (%s,%s)\"\n",
    "                cursor.execute(sql, tuple(row))\n",
    "                print(\"Record inserted\")\n",
    "                # the connection is not auto committed by default, so we must commit to save our changes\n",
    "                conn.commit()\n",
    "except Error as e:\n",
    "            print(\"Error while connecting to MySQL\", e)"
   ]
  },
  {
   "cell_type": "code",
   "execution_count": 4,
   "id": "c0a8fbc1",
   "metadata": {},
   "outputs": [
    {
     "name": "stdout",
     "output_type": "stream",
     "text": [
      "Enter username:root\n",
      "Enter password: ········\n",
      "Record inserted\n",
      "Record inserted\n",
      "Record inserted\n",
      "Record inserted\n",
      "Record inserted\n",
      "Record inserted\n",
      "Record inserted\n",
      "Record inserted\n",
      "Record inserted\n",
      "Record inserted\n",
      "Record inserted\n",
      "Record inserted\n",
      "Record inserted\n",
      "Record inserted\n",
      "Record inserted\n",
      "Record inserted\n",
      "Record inserted\n",
      "Record inserted\n",
      "Record inserted\n",
      "Record inserted\n",
      "Record inserted\n",
      "Record inserted\n",
      "Record inserted\n",
      "Record inserted\n",
      "Record inserted\n",
      "Record inserted\n",
      "Record inserted\n",
      "Record inserted\n",
      "Record inserted\n",
      "Record inserted\n",
      "Record inserted\n",
      "Record inserted\n",
      "Record inserted\n",
      "Record inserted\n",
      "Record inserted\n",
      "Record inserted\n",
      "Record inserted\n",
      "Record inserted\n",
      "Record inserted\n",
      "Record inserted\n",
      "Record inserted\n",
      "Record inserted\n",
      "Record inserted\n",
      "Record inserted\n",
      "Record inserted\n"
     ]
    }
   ],
   "source": [
    "try:\n",
    "    with connect(\n",
    "        host=\"localhost\",\n",
    "        user=input(\"Enter username:\"),\n",
    "        password=getpass(\"Enter password: \"),\n",
    "    ) as connection:\n",
    "        conn = msql.connect(host='localhost', user='root', database='All_about_you', #create a new database\n",
    "                            password='sqlisthebes+!')  # give ur username, password\n",
    "        if conn.is_connected():\n",
    "            cursor = conn.cursor()\n",
    "            for i,row in mood_activity.iterrows():\n",
    "                #here %S means string values\n",
    "                sql = \"INSERT INTO mood_activity VALUES (%s,%s)\"\n",
    "                cursor.execute(sql, tuple(row))\n",
    "                print(\"Record inserted\")\n",
    "                # the connection is not auto committed by default, so we must commit to save our changes\n",
    "                conn.commit()\n",
    "except Error as e:\n",
    "            print(\"Error while connecting to MySQL\", e)"
   ]
  }
 ],
 "metadata": {
  "kernelspec": {
   "display_name": "Python 3 (ipykernel)",
   "language": "python",
   "name": "python3"
  },
  "language_info": {
   "codemirror_mode": {
    "name": "ipython",
    "version": 3
   },
   "file_extension": ".py",
   "mimetype": "text/x-python",
   "name": "python",
   "nbconvert_exporter": "python",
   "pygments_lexer": "ipython3",
   "version": "3.10.0"
  }
 },
 "nbformat": 4,
 "nbformat_minor": 5
}
