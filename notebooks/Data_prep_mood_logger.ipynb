{
 "cells": [
  {
   "cell_type": "code",
   "execution_count": null,
   "id": "5804c8bf",
   "metadata": {},
   "outputs": [],
   "source": [
    "import pandas as pd\n",
    "\n",
    "df=pd.read_csv(\"/Users/linalouis/Downloads/Daylio_Abid.csv\")\n",
    "df['mood']=df['mood'].str.upper()\n",
    "df['activities']=df['activities'].str.upper()\n",
    "df=pd.DataFrame(df, columns= ['mood', 'activities'])\n",
    "df.head()\n",
    "df_split = df.set_index(['mood']).apply(lambda x: x.str.split('|').explode()).reset_index()\n",
    "\n",
    "df_split['activities']=df_split['activities'].str.strip()\n",
    "\n",
    "df_split=pd.DataFrame(df_split[df_split['activities'] != 'DOTA 2'])\n",
    "\n",
    "df_split.to_csv(\"/Users/linalouis/Downloads/Mood_Logger.csv\")"
   ]
  }
 ],
 "metadata": {
  "kernelspec": {
   "display_name": "Python 3 (ipykernel)",
   "language": "python",
   "name": "python3"
  },
  "language_info": {
   "codemirror_mode": {
    "name": "ipython",
    "version": 3
   },
   "file_extension": ".py",
   "mimetype": "text/x-python",
   "name": "python",
   "nbconvert_exporter": "python",
   "pygments_lexer": "ipython3",
   "version": "3.9.7"
  }
 },
 "nbformat": 4,
 "nbformat_minor": 5
}
